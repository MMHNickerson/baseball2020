{
 "cells": [
  {
   "cell_type": "code",
   "execution_count": 1,
   "metadata": {},
   "outputs": [
    {
     "name": "stderr",
     "output_type": "stream",
     "text": [
      "/anaconda2/envs/py36/lib/python3.6/site-packages/bs4/element.py:16: UserWarning: The soupsieve package is not installed. CSS selectors cannot be used.\n",
      "  'The soupsieve package is not installed. CSS selectors cannot be used.'\n"
     ]
    }
   ],
   "source": [
    "import datetime\n",
    "import json\n",
    "import os\n",
    "import time\n",
    "import re\n",
    "import requests\n",
    "import pandas as pd\n",
    "import seaborn as sns\n",
    "import matplotlib.pyplot as plt\n",
    "from scipy import stats\n",
    "from bs4 import BeautifulSoup\n",
    "import numpy as np\n",
    "from baseball_scraper import pitching_stats_bref"
   ]
  },
  {
   "cell_type": "code",
   "execution_count": 10,
   "metadata": {},
   "outputs": [],
   "source": [
    "DATA_PATH   = '/Users/mnickerson/baseball2020/'  \n",
    "\n",
    "call = 'gotime'"
   ]
  },
  {
   "cell_type": "code",
   "execution_count": 15,
   "metadata": {},
   "outputs": [
    {
     "name": "stdout",
     "output_type": "stream",
     "text": [
      "fetching data...\n",
      "fetching data...\n",
      "fetching data...\n",
      "fetching data...\n",
      "Elapsed time: 9.76 seconds\n"
     ]
    }
   ],
   "source": [
    "def main():\n",
    "    start_time = time.time()\n",
    "    if call.startswith('gotime'):\n",
    "        pitch_looper()\n",
    "    else:\n",
    "        print('this failed')\n",
    "    elapsed = time.time() - start_time\n",
    "    print('Elapsed time: %s' % format_seconds(elapsed))\n",
    "    \n",
    "def pitch_fetcher(year):\n",
    "    filename = DATA_PATH + 'pitching_data' + str(year) + '.csv'\n",
    "    year_pitching = pitching_stats_bref(year)\n",
    "    pitching_df = pd.DataFrame(year_pitching) \n",
    "    pitching_df.to_csv(filename, index=False)\n",
    "    return pitching_df\n",
    "\n",
    "def pitch_looper():\n",
    "    #pitching_data_df = []\n",
    "    years = [2015,2016,2017,2018]\n",
    "    for year in years:\n",
    "        pitch_fetcher(year)\n",
    "        print('fetching data...')\n",
    "    #pitching_data_df.append(pitching_df)        \n",
    "    #return pitching_data_df\n",
    "\n",
    "def format_seconds(seconds):\n",
    "    if seconds > 60:\n",
    "        minutes, seconds = seconds // 60, seconds % 60\n",
    "        return '%d:%02.2f minutes' % (minutes, seconds)\n",
    "    return '%.2f seconds' % seconds\n",
    "\n",
    "if __name__ == '__main__':\n",
    "    main()"
   ]
  }
 ],
 "metadata": {
  "kernelspec": {
   "display_name": "Python 3",
   "language": "python",
   "name": "python3"
  },
  "language_info": {
   "codemirror_mode": {
    "name": "ipython",
    "version": 3
   },
   "file_extension": ".py",
   "mimetype": "text/x-python",
   "name": "python",
   "nbconvert_exporter": "python",
   "pygments_lexer": "ipython3",
   "version": "3.6.8"
  }
 },
 "nbformat": 4,
 "nbformat_minor": 2
}
